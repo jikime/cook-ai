{
 "cells": [
  {
   "cell_type": "code",
   "execution_count": null,
   "metadata": {},
   "outputs": [],
   "source": [
    "%pip install PyPDF2"
   ]
  },
  {
   "cell_type": "code",
   "execution_count": 1,
   "metadata": {},
   "outputs": [
    {
     "data": {
      "text/plain": [
       "True"
      ]
     },
     "execution_count": 1,
     "metadata": {},
     "output_type": "execute_result"
    }
   ],
   "source": [
    "from dotenv import load_dotenv\n",
    "\n",
    "# Load the .env file\n",
    "load_dotenv()"
   ]
  },
  {
   "cell_type": "code",
   "execution_count": 2,
   "metadata": {},
   "outputs": [],
   "source": [
    "from PyPDF2 import PdfReader\n",
    "\n",
    "# PDF 문서에서 텍스트를 추출\n",
    "def get_pdf_text(pdf):\n",
    "    text = \"\"\n",
    "    pdf_reader = PdfReader(pdf)\n",
    "    for page in pdf_reader.pages:\n",
    "        text += page.extract_text()\n",
    "    return text\n"
   ]
  },
  {
   "cell_type": "code",
   "execution_count": 3,
   "metadata": {},
   "outputs": [],
   "source": [
    "from langchain_text_splitters import CharacterTextSplitter\n",
    "\n",
    "# CharacterTextSplitter를 사용하여 텍스트를 청크로 분할\n",
    "def split_text(text, chunk_size=1000, chunk_overlap=200):\n",
    "    text_splitter = CharacterTextSplitter(\n",
    "        separator=\"\\n\",\n",
    "        chunk_size=chunk_size,\n",
    "        chunk_overlap=chunk_overlap,\n",
    "        length_function=len,\n",
    "    )\n",
    "    docs = text_splitter.split_text(text)\n",
    "\n",
    "    return docs"
   ]
  },
  {
   "cell_type": "code",
   "execution_count": 4,
   "metadata": {},
   "outputs": [],
   "source": [
    "from langchain_community.vectorstores import FAISS\n",
    "from langchain_openai import OpenAIEmbeddings\n",
    "\n",
    "# 주어진 텍스트 청크에 대한 임베딩을 생성하고 FAISS를 사용하여 벡터 저장소를 생성\n",
    "def get_vectorstore(text_chunks):\n",
    "    vectorstore = FAISS.from_texts(texts=text_chunks, embedding=OpenAIEmbeddings())\n",
    "    return vectorstore"
   ]
  },
  {
   "cell_type": "code",
   "execution_count": 5,
   "metadata": {},
   "outputs": [],
   "source": [
    "from langchain import hub\n",
    "from langchain_core.runnables import RunnablePassthrough\n",
    "from langchain_core.output_parsers import StrOutputParser\n",
    "\n",
    "def format_docs(docs):\n",
    "    return \"\\n\\n\".join(doc.page_content for doc in docs)\n",
    "\n",
    "def build_chain(retriever, llm):\n",
    "    # 프롬프트 모듈을 가져와서 사용\n",
    "    prompt = hub.pull(\"rlm/rag-prompt\")\n",
    "\n",
    "    # 체인을 구성\n",
    "    chain = (\n",
    "        {\"context\": retriever | format_docs, \"question\": RunnablePassthrough()}\n",
    "        | prompt\n",
    "        | llm\n",
    "        | StrOutputParser()\n",
    "    )\n",
    "\n",
    "    return chain"
   ]
  },
  {
   "cell_type": "code",
   "execution_count": null,
   "metadata": {},
   "outputs": [],
   "source": [
    "import streamlit as st\n",
    "from langchain_openai import ChatOpenAI\n",
    "\n",
    "st.title(\"PDF 요약하기\")\n",
    "st.divider()\n",
    "\n",
    "pdf = st.file_uploader(\"PDF파일을 업로드해주세요\", type=\"pdf\")\n",
    "\n",
    "if pdf is not None:\n",
    "  text = get_pdf_text(pdf)\n",
    "  chunks = split_text(text)\n",
    "  vectorstore = get_vectorstore(chunks)\n",
    "\n",
    "  query = \"업로드된 PDF 파일의 내용을 약 3~5문장으로 요약해주세요.\"  # LLM에 PDF파일 요약 요청\n",
    "\n",
    "  if query:\n",
    "    llm = ChatOpenAI(model=\"gpt-3.5-turbo-16k\", temperature=0.1)\n",
    "    retriever = vectorstore.as_retriever(\n",
    "      search_type=\"similarity\", \n",
    "      search_kwargs={\"k\": 3}\n",
    "    )\n",
    "\n",
    "    # chain을 구성\n",
    "    chain = build_chain(retriever, llm)\n",
    "    response = chain.invoke(query)\n",
    "\n",
    "    st.subheader(\"요약 결과\")\n",
    "    st.write(response)\n"
   ]
  }
 ],
 "metadata": {
  "kernelspec": {
   "display_name": "llm",
   "language": "python",
   "name": "llm"
  },
  "language_info": {
   "codemirror_mode": {
    "name": "ipython",
    "version": 3
   },
   "file_extension": ".py",
   "mimetype": "text/x-python",
   "name": "python",
   "nbconvert_exporter": "python",
   "pygments_lexer": "ipython3",
   "version": "3.11.9"
  }
 },
 "nbformat": 4,
 "nbformat_minor": 2
}
