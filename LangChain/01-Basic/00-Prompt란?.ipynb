{
 "cells": [
  {
   "cell_type": "markdown",
   "metadata": {},
   "source": [
    "### Prompt란?"
   ]
  },
  {
   "cell_type": "markdown",
   "metadata": {},
   "source": [
    "### Prompt Engineering이란?"
   ]
  },
  {
   "cell_type": "markdown",
   "metadata": {},
   "source": [
    "#### Prompt 구성요소\n",
    "![](../..//Assets/images/prompt_elements.png)\n",
    "| 구성요소 | 설명 |\n",
    "|---|---|\n",
    "| `Instructions`|모델에게 무엇을 해야 하는지, 제공된 경우 외부 정보를 어떻게 사용해야 하는지, 쿼리와 어떻게 처리해야 하는지, 출력물을 어떻게 구성해야 하는지 알려주는 부분이다.|\n",
    "| `Context` |모델에 대한 추가 지식의 원천 역할을 한다. 이 정보는 프롬프트에 수동으로 삽입될 수 있으며, 벡터 데이터베이스를 통해 검색된 정보일 수도 있고 다른 수단(API, 계산 등)을 통해 가져올 수도 있다.|\n",
    " `User input or query` |일반적으로 사용자(프롬프트 생성자)가 시스템에 입력한 쿼리이다.|\n",
    "| `Ouput indicator` |생성될 텍스트의 시작을 나타낸다.|\n"
   ]
  }
 ],
 "metadata": {
  "language_info": {
   "name": "python"
  }
 },
 "nbformat": 4,
 "nbformat_minor": 2
}
