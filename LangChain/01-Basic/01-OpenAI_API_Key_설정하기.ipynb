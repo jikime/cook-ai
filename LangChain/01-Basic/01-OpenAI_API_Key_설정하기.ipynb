{
 "cells": [
  {
   "cell_type": "markdown",
   "metadata": {},
   "source": [
    "### OpenAI API 키 발급 및 환경변수 설정\n",
    "\n",
    "1. [OpenAI API 키 발급](https://platform.openai.com/api-keys)\n",
    "2. `.env` 파일 설정\n",
    "    - 프로젝트 루트 디렉토리에 `.env` 파일을 생성한다.\n",
    "    - 파일을 열어 발급받은 API 키를 다음 형식으로 저장한다.\n",
    "        ```\n",
    "        OPENAI_API_KEY = sk-xxxxx\n",
    "        ```\n",
    "3. langchain 관련 패키지 설치"
   ]
  },
  {
   "cell_type": "code",
   "execution_count": null,
   "metadata": {},
   "outputs": [],
   "source": [
    "%pip install -U langchain langchain-community langchain-core langchain-openai langchainhub python-dotenv"
   ]
  },
  {
   "cell_type": "code",
   "execution_count": 1,
   "metadata": {},
   "outputs": [
    {
     "data": {
      "text/plain": [
       "True"
      ]
     },
     "execution_count": 1,
     "metadata": {},
     "output_type": "execute_result"
    }
   ],
   "source": [
    "from dotenv import load_dotenv\n",
    "\n",
    "# .env로부터 API KEY 정보 가져오기\n",
    "load_dotenv()"
   ]
  },
  {
   "cell_type": "code",
   "execution_count": 2,
   "metadata": {},
   "outputs": [
    {
     "name": "stdout",
     "output_type": "stream",
     "text": [
      "[API KEY]\n",
      "sk-proj-EKQNN98PwJt5fRq4QglmT3BlbkFJSYV7X***************\n"
     ]
    }
   ],
   "source": [
    "import os\n",
    "\n",
    "print(f\"[API KEY]\\n{os.environ['OPENAI_API_KEY'][:-15]}\" + \"*\" * 15)"
   ]
  }
 ],
 "metadata": {
  "kernelspec": {
   "display_name": "llm",
   "language": "python",
   "name": "llm"
  },
  "language_info": {
   "codemirror_mode": {
    "name": "ipython",
    "version": 3
   },
   "file_extension": ".py",
   "mimetype": "text/x-python",
   "name": "python",
   "nbconvert_exporter": "python",
   "pygments_lexer": "ipython3",
   "version": "3.11.9"
  }
 },
 "nbformat": 4,
 "nbformat_minor": 2
}
