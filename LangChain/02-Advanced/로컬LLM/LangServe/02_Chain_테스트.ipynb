{
 "cells": [
  {
   "cell_type": "code",
   "execution_count": 1,
   "metadata": {},
   "outputs": [],
   "source": [
    "from langchain_community.chat_models import ChatOllama\n",
    "from langchain_core.output_parsers import StrOutputParser\n",
    "from langchain_core.prompts import ChatPromptTemplate, MessagesPlaceholder\n",
    "from langchain_core.callbacks.streaming_stdout import StreamingStdOutCallbackHandler\n",
    "from langchain_core.callbacks.manager import CallbackManager\n",
    "\n",
    "# LangChain이 지원하는 다른 채팅 모델인 Ollama를 사용한다.\n",
    "llm = ChatOllama(\n",
    "    model=\"EEVE-Korean-10.8B:latest\",\n",
    "    callback_manager=CallbackManager([StreamingStdOutCallbackHandler()]),\n",
    ")"
   ]
  },
  {
   "cell_type": "code",
   "execution_count": 2,
   "metadata": {},
   "outputs": [
    {
     "name": "stdout",
     "output_type": "stream",
     "text": [
      "거대언어모델(LLMs)은 대량의 텍스트 데이터를 학습하여 인간과 같은 방식으로 언어를 이해하고 생성할 수 있는 고급 인공지능 시스템입니다. 이들은 자연어 처리(NLP) 분야에서 중요한 발전으로, 언어 이해와 생성 능력을 크게 향상시켰습니다. LLM의 주요 특징은 다음과 같습니다:\n",
      "\n",
      "1. 규모: LLMs는 수십억에서 수백억 개의 매개변수를 가진 대규모 신경망으로 구성되어 있습니다. 이러한 방대한 크기는 모델이 복잡한 패턴과 관계를 학습하고 다양한 언어 작업을 수행할 수 있게 합니다.\n",
      "2. 사전 훈련: LLMs는 대량의 텍스트 데이터를 사용하여 사전 훈련되며, 이는 종종 수십억에서 수백억 개의 단어에 달합니다. 이 과정은 모델이 문맥을 이해하고 인간처럼 언어를 생성할 수 있는 능력을 개발하도록 도와줍니다.\n",
      "3. 다목적성: LLMs는 다양한 언어 작업에 적용될 수 있도록 설계되었습니다. 예를 들어 텍스트 분류, 감정 분석, 기계 번역, 대규모 언어 모델링 등이 있습니다. 이러한 다목적성은 단일 모델을 사용하여 여러 작업을 해결할 수 있게 하여 개발 및 배포 비용을 줄일 수 있습니다.\n",
      "4. 전이 학습: LLMs는 사전 훈련된 모델의 지식을 새로운 작업에 적용하는 전이 학습 기술을 사용합니다. 이 접근 방식은 처음부터 모델을 처음부터 훈련할 필요성을 줄여 시간과 자원을 절약합니다.\n",
      "5. 적응성: LLMs는 특정 작업이나 도메인에 맞게 미세 조정될 수 있어, 성능을 더욱 향상시킬 수 있습니다. 이러한 적응성은 다양한 응용 분야에서 LLM의 사용 가능성을 넓혀줍니다.\n",
      "6. 오픈소스: LLMs는 종종 오픈소스로 제공되어 개발자들이 모델을 연구하고 개선할 수 있게 합니다. 이는 NLP 분야에서의 협력과 혁신을 촉진합니다.\n",
      "7. 응용 분야: LLMs는 다양한 산업 및 분야에서 활용되고 있습니다. 예를 들어, 고객 서비스, 의료 진단, 금융 분석, 교육 등이 있습니다. 이러한 응용 분야는 LLM의 광범위한 잠재력을 보여줍니다.\n",
      "8. 윤리적 고려 사항: LLMs가 점점 더 널리 사용됨에 따라, 편향성, 프라이버시, 책임성과 같은 윤리적 우려도 함께 증가하고 있습니다. 개발자들은 이러한 문제를 해결하고 LLM이 안전하고 책임감 있게 사용되도록 해야 합니다.\n",
      "\n",
      "전반적으로, 거대언어모델은 NLP 분야에서 중요한 발전으로, 언어 이해와 생성 능력을 크게 향상시켰습니다. 다양한 응용 분야를 가진 다목적 도구로서, LLMs는 여러 산업 및 분야에 혁명을 일으킬 잠재력을 가지고 있습니다.거대언어모델(LLMs)은 대량의 텍스트 데이터를 학습하여 인간과 같은 방식으로 언어를 이해하고 생성할 수 있는 고급 인공지능 시스템입니다. 이들은 자연어 처리(NLP) 분야에서 중요한 발전으로, 언어 이해와 생성 능력을 크게 향상시켰습니다. LLM의 주요 특징은 다음과 같습니다:\n",
      "\n",
      "1. 규모: LLMs는 수십억에서 수백억 개의 매개변수를 가진 대규모 신경망으로 구성되어 있습니다. 이러한 방대한 크기는 모델이 복잡한 패턴과 관계를 학습하고 다양한 언어 작업을 수행할 수 있게 합니다.\n",
      "2. 사전 훈련: LLMs는 대량의 텍스트 데이터를 사용하여 사전 훈련되며, 이는 종종 수십억에서 수백억 개의 단어에 달합니다. 이 과정은 모델이 문맥을 이해하고 인간처럼 언어를 생성할 수 있는 능력을 개발하도록 도와줍니다.\n",
      "3. 다목적성: LLMs는 다양한 언어 작업에 적용될 수 있도록 설계되었습니다. 예를 들어 텍스트 분류, 감정 분석, 기계 번역, 대규모 언어 모델링 등이 있습니다. 이러한 다목적성은 단일 모델을 사용하여 여러 작업을 해결할 수 있게 하여 개발 및 배포 비용을 줄일 수 있습니다.\n",
      "4. 전이 학습: LLMs는 사전 훈련된 모델의 지식을 새로운 작업에 적용하는 전이 학습 기술을 사용합니다. 이 접근 방식은 처음부터 모델을 처음부터 훈련할 필요성을 줄여 시간과 자원을 절약합니다.\n",
      "5. 적응성: LLMs는 특정 작업이나 도메인에 맞게 미세 조정될 수 있어, 성능을 더욱 향상시킬 수 있습니다. 이러한 적응성은 다양한 응용 분야에서 LLM의 사용 가능성을 넓혀줍니다.\n",
      "6. 오픈소스: LLMs는 종종 오픈소스로 제공되어 개발자들이 모델을 연구하고 개선할 수 있게 합니다. 이는 NLP 분야에서의 협력과 혁신을 촉진합니다.\n",
      "7. 응용 분야: LLMs는 다양한 산업 및 분야에서 활용되고 있습니다. 예를 들어, 고객 서비스, 의료 진단, 금융 분석, 교육 등이 있습니다. 이러한 응용 분야는 LLM의 광범위한 잠재력을 보여줍니다.\n",
      "8. 윤리적 고려 사항: LLMs가 점점 더 널리 사용됨에 따라, 편향성, 프라이버시, 책임성과 같은 윤리적 우려도 함께 증가하고 있습니다. 개발자들은 이러한 문제를 해결하고 LLM이 안전하고 책임감 있게 사용되도록 해야 합니다.\n",
      "\n",
      "전반적으로, 거대언어모델은 NLP 분야에서 중요한 발전으로, 언어 이해와 생성 능력을 크게 향상시켰습니다. 다양한 응용 분야를 가진 다목적 도구로서, LLMs는 여러 산업 및 분야에 혁명을 일으킬 잠재력을 가지고 있습니다.\n"
     ]
    }
   ],
   "source": [
    "# 프롬프트 설정\n",
    "prompt = ChatPromptTemplate.from_template(\"{topic} 에 대하여 간략히 설명해 주세요.\")\n",
    "\n",
    "# LCEL 구문을 사용\n",
    "chain = prompt | llm | StrOutputParser()\n",
    "\n",
    "# 체인 실행\n",
    "response = chain.invoke({\"topic\": \"거대언어모델\"})\n",
    "print(response )"
   ]
  },
  {
   "cell_type": "code",
   "execution_count": 3,
   "metadata": {},
   "outputs": [
    {
     "name": "stdout",
     "output_type": "stream",
     "text": [
      " 궁금한 점이나 도움이 필요하신 것이 있으시면 언제든지 물어보세요. 최선을 다해 도와드리겠습니다. 궁금한 점이나 도움이 필요하신 것이 있으시면 언제든지 물어보세요. 최선을 다해 도와드리겠습니다.\n"
     ]
    }
   ],
   "source": [
    "# 프롬프트 설정\n",
    "prompt = ChatPromptTemplate.from_messages(\n",
    "    [\n",
    "        (\n",
    "            \"system\",\n",
    "            \"You are a helpful AI Assistant. Your name is '테디'. You must answer in Korean.\",\n",
    "        ),\n",
    "        MessagesPlaceholder(variable_name=\"messages\"),\n",
    "    ]\n",
    ")\n",
    "\n",
    "# LCEL 구문을 사용\n",
    "chain = prompt | llm | StrOutputParser()\n",
    "\n",
    "# 체인 실행\n",
    "response = chain.invoke(\n",
    "    {\n",
    "        \"messages\": [\n",
    "            (\n",
    "                \"human\",\n",
    "                \"안녕하세요! 저는 Anthony 입니다. 만나서 반갑습니다.\",\n",
    "            ),\n",
    "            (\"ai\", \"반가워요! 앞으로 잘 부탁 드립니다.\"),\n",
    "        ],\n",
    "    }\n",
    ")\n",
    "print(response )"
   ]
  }
 ],
 "metadata": {
  "kernelspec": {
   "display_name": "llm",
   "language": "python",
   "name": "llm"
  },
  "language_info": {
   "codemirror_mode": {
    "name": "ipython",
    "version": 3
   },
   "file_extension": ".py",
   "mimetype": "text/x-python",
   "name": "python",
   "nbconvert_exporter": "python",
   "pygments_lexer": "ipython3",
   "version": "3.12.3"
  }
 },
 "nbformat": 4,
 "nbformat_minor": 2
}
