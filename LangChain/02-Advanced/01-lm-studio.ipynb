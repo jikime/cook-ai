{
 "cells": [
  {
   "cell_type": "code",
   "execution_count": 1,
   "metadata": {},
   "outputs": [],
   "source": [
    "from langchain_openai import ChatOpenAI\n",
    "from langchain_core.callbacks.streaming_stdout import StreamingStdOutCallbackHandler\n",
    "from langchain_core.prompts import PromptTemplate\n",
    "from langchain_core.output_parsers import StrOutputParser\n",
    "\n",
    "llm = ChatOpenAI(\n",
    "  base_url=\"https://usually-adjusted-raptor.ngrok-free.app/v1\",\n",
    "  api_key=\"lm-studio\",\n",
    "  model=\"teddylee777/EEVE-Korean-Instruct-10.8B-v1.0-gguf\",\n",
    "  streaming=True,\n",
    "  callbacks=[StreamingStdOutCallbackHandler()],\n",
    "  temperature=0\n",
    ")"
   ]
  },
  {
   "cell_type": "code",
   "execution_count": 2,
   "metadata": {},
   "outputs": [],
   "source": [
    "prompt = PromptTemplate.from_template(\n",
    "  \"\"\"You are a helpful, smart, kind, and efficient AI assistant. You always fulfill the user's requests to the best of your ability.\n",
    "  You must generate an answer in Korean.\n",
    "  \n",
    "  #Question:\n",
    "  {question}\n",
    "  \n",
    "  #Answer: \n",
    "  \"\"\"\n",
    ")\n",
    "chain = prompt | llm | StrOutputParser()"
   ]
  },
  {
   "cell_type": "code",
   "execution_count": 3,
   "metadata": {},
   "outputs": [
    {
     "name": "stdout",
     "output_type": "stream",
     "text": [
      " 서울의 면적은 대략 605.21제곱킬로미터(km²)입니다. 이는 한강을 기준으로 북쪽으로는 성동구, 동쪽으로는 광진구와 중랑구, 남쪽으로는 동작구와 관악구, 서쪽으로는 은평구와 마포구에 둘러싸인 지역으로 구성되어 있습니다. 이 면적에는 도심 지역뿐만 아니라 주거 및 상업 지구, 공원, 그리고 한강과 같은 자연 환경도 포함되어 있습니다."
     ]
    }
   ],
   "source": [
    "response = chain.invoke({\"question\": \"서울의 면적은?\"})"
   ]
  }
 ],
 "metadata": {
  "kernelspec": {
   "display_name": "llm",
   "language": "python",
   "name": "llm"
  },
  "language_info": {
   "codemirror_mode": {
    "name": "ipython",
    "version": 3
   },
   "file_extension": ".py",
   "mimetype": "text/x-python",
   "name": "python",
   "nbconvert_exporter": "python",
   "pygments_lexer": "ipython3",
   "version": "3.12.3"
  }
 },
 "nbformat": 4,
 "nbformat_minor": 2
}
