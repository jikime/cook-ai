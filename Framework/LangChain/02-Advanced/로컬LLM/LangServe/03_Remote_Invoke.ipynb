{
 "cells": [
  {
   "cell_type": "markdown",
   "metadata": {},
   "source": [
    "### 서버 실행"
   ]
  },
  {
   "cell_type": "code",
   "execution_count": null,
   "metadata": {},
   "outputs": [],
   "source": [
    "!python ./server.py"
   ]
  },
  {
   "cell_type": "markdown",
   "metadata": {},
   "source": [
    "### ngrok 실행"
   ]
  },
  {
   "cell_type": "code",
   "execution_count": null,
   "metadata": {},
   "outputs": [],
   "source": [
    "!ngrok http --domain=usually-adjusted-raptor.ngrok-free.app 8005"
   ]
  },
  {
   "cell_type": "code",
   "execution_count": 1,
   "metadata": {},
   "outputs": [
    {
     "name": "stdout",
     "output_type": "stream",
     "text": [
      "하늘이 파란색인 이유는 대기 중 산소 분자와 질소 분자에 의한 빛의 산란 때문입니다. 태양빛과 같은 흰색 빛이 지구 대기에 도달하면, 이 가스 분자들과 충돌하면서 다양한 색으로 나뉘게 됩니다. 우리가 하늘을 볼 때 보는 파란색은 바로 이러한 산란 과정 때문입니다.\n",
      "\n",
      "이 과정을 더 잘 이해하기 위해, 가시광선의 기본 원리를 살펴봅시다. 가시광선은 빨강에서 보라까지의 스펙트럼에 걸쳐 있는 전자기파입니다. 태양빛과 같은 흰색 빛은 이 모든 색깔을 포함하고 있습니다. 빛이 대기 중 가스 분자와 충돌하면, 파장이 긴 빛(예: 빨간색)은 더 많이 산란되고, 파장이 짧은 빛(예: 보라색)은 덜 산란됩니다.\n",
      "\n",
      "가시광선의 스펙트럼에서 파장이 가장 긴 색깔인 빨강색과 파장이 가장 짧은 색깔인 보라색 사이의 중간에 파란색이 위치해 있습니다. 따라서, 하늘을 볼 때 우리가 보는 것은 바로 이 중간 범위의 파란색 빛입니다.\n",
      "\n",
      "산란 과정은 태양의 위치에 따라 달라집니다. 예를 들어, 해질녘이나 새벽에는 태양 빛이 대기 중 더 많은 분자들을 통과해야 하기 때문에 산란 효과가 증가하여 하늘이 더욱 선명하고 진한 파란색을 띱니다. 반대로, 정오에 태양이 머리 위로 있을 때는 대기가 상대적으로 얇아져 산란이 덜 일어나며 하늘이 더 밝고 연한 파란색으로 보입니다.\n",
      "\n",
      "또한, 대기 중 먼지나 오염물질의 양도 하늘의 색깔에 영향을 줄 수 있습니다. 이러한 입자들이 빛과 충돌하면 산란 효과를 증가시켜 하늘을 더욱 진하고 선명한 파란색으로 보이게 할 수 있습니다.\n",
      "\n",
      "요약하자면, 하늘이 파란색인 이유는 대기 중 가스 분자에 의한 가시광선의 산란 때문입니다. 이 과정은 태양의 위치에 따라 달라지며, 해질녘이나 새벽에 하늘이 더 선명하고 진한 파란색을 띱니다. 또한, 대기 중 먼지나 오염물질의 양도 하늘의 색깔에 영향을 줄 수 있습니다."
     ]
    }
   ],
   "source": [
    "from langserve import RemoteRunnable\n",
    "\n",
    "# localhost\n",
    "#chain = RemoteRunnable(\"http://0.0.0.0:8005/prompt\")\n",
    "chain = RemoteRunnable(\"https://usually-adjusted-raptor.ngrok-free.app/prompt\")\n",
    "\n",
    "for token in chain.stream({\"topic\": \"하늘은 왜 파란색일까?\"}):\n",
    "    print(token, end=\"\")"
   ]
  },
  {
   "cell_type": "markdown",
   "metadata": {},
   "source": [
    "### 번역기"
   ]
  },
  {
   "cell_type": "code",
   "execution_count": 3,
   "metadata": {},
   "outputs": [
    {
     "name": "stdout",
     "output_type": "stream",
     "text": [
      "저는 딥러닝을 사랑합니다"
     ]
    }
   ],
   "source": [
    "from langserve import RemoteRunnable\n",
    "\n",
    "chain = RemoteRunnable(\"https://usually-adjusted-raptor.ngrok-free.app/translate\")\n",
    "\n",
    "for token in chain.stream({\"input\": \"I love deep learning\"}):\n",
    "    print(token, end=\"\")"
   ]
  },
  {
   "cell_type": "markdown",
   "metadata": {},
   "source": [
    "### LLM 사용하기"
   ]
  },
  {
   "cell_type": "code",
   "execution_count": null,
   "metadata": {},
   "outputs": [],
   "source": [
    "from langchain_core.output_parsers import StrOutputParser\n",
    "from langchain_core.prompts import ChatPromptTemplate\n",
    "from langserve import RemoteRunnable\n",
    "\n",
    "llm = RemoteRunnable(\"https://usually-adjusted-raptor.ngrok-free.app/llm/\")\n",
    "prompt = ChatPromptTemplate.from_template(\n",
    "    \"다음의 내용을 SNS 게시글 형식으로 변환해 주세요:\\n{input}\"\n",
    ")\n",
    "\n",
    "chain = prompt | llm | StrOutputParser()\n",
    "\n",
    "chain.invoke({\"input\": \"저는 딥러닝을 너무나도 사랑합니다.\"})"
   ]
  }
 ],
 "metadata": {
  "kernelspec": {
   "display_name": "llm",
   "language": "python",
   "name": "llm"
  },
  "language_info": {
   "codemirror_mode": {
    "name": "ipython",
    "version": 3
   },
   "file_extension": ".py",
   "mimetype": "text/x-python",
   "name": "python",
   "nbconvert_exporter": "python",
   "pygments_lexer": "ipython3",
   "version": "3.12.3"
  }
 },
 "nbformat": 4,
 "nbformat_minor": 2
}
