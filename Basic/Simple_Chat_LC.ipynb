{
 "cells": [
  {
   "cell_type": "code",
   "execution_count": 4,
   "metadata": {},
   "outputs": [],
   "source": [
    "#!pip install langchain steamlit langchain_core langchain_openai"
   ]
  },
  {
   "cell_type": "markdown",
   "metadata": {},
   "source": [
    ".env 파일에서 openAI API key를 로드한다."
   ]
  },
  {
   "cell_type": "code",
   "execution_count": 5,
   "metadata": {},
   "outputs": [
    {
     "data": {
      "text/plain": [
       "True"
      ]
     },
     "execution_count": 5,
     "metadata": {},
     "output_type": "execute_result"
    }
   ],
   "source": [
    "from dotenv import load_dotenv\n",
    "\n",
    "# Load the .env file\n",
    "load_dotenv()"
   ]
  },
  {
   "cell_type": "markdown",
   "metadata": {},
   "source": [
    "Streamlit을 이용하여 LLM에 질문해보자."
   ]
  },
  {
   "cell_type": "code",
   "execution_count": null,
   "metadata": {},
   "outputs": [],
   "source": [
    "import streamlit as st\n",
    "from langchain_openai import ChatOpenAI\n",
    "from langchain_core.output_parsers import StrOutputParser\n",
    "\n",
    "# 페이지 설정\n",
    "st.set_page_config(page_title=\"무엇이든 물어보세요!\", page_icon=\"🦜🔗\")\n",
    "\n",
    "# 페이지 제목\n",
    "st.title('🦜🔗 무엇이든 물어보세요!')\n",
    "\n",
    "def generated_response(input_text):\n",
    "    # OpenAI API를 사용하여 질문에 대한 답변 생성\n",
    "    llm = ChatOpenAI(\n",
    "      temperature=0,  # 창의성 0으로 설정 \n",
    "      model_name='gpt-3.5-turbo',  # 모델명\n",
    "    )\n",
    "    # Output Parser 설정\n",
    "    chain = llm | StrOutputParser()\n",
    "    \n",
    "    # chain을 사용하여 질문에 대한 답변 생성하여 화면에 출력 \n",
    "    st.info(chain.invoke(input_text))\n",
    "\n",
    "# 질문 입력\n",
    "with st.form('질문하기'):\n",
    "    # 첫 페이지가 실행될 때 보여줄 질문\n",
    "    text = st.text_area('질문 입력:', '무엇이든 물어보세요.') \n",
    "    \n",
    "    # 질문 제출 버튼\n",
    "    submitted = st.form_submit_button('보내기')\n",
    "    \n",
    "    # 질문 제출 버튼을 눌렀을 때\n",
    "    generated_response(text)"
   ]
  },
  {
   "cell_type": "markdown",
   "metadata": {},
   "source": [
    "실행하는 방법\n",
    "\n",
    "위의 코드를 Simple_Chat.py로 만든후 아래 명령이 실행"
   ]
  },
  {
   "cell_type": "code",
   "execution_count": 6,
   "metadata": {},
   "outputs": [],
   "source": [
    "%streamlit run Simple_Chat.py"
   ]
  }
 ],
 "metadata": {
  "kernelspec": {
   "display_name": "llm",
   "language": "python",
   "name": "llm"
  },
  "language_info": {
   "codemirror_mode": {
    "name": "ipython",
    "version": 3
   },
   "file_extension": ".py",
   "mimetype": "text/x-python",
   "name": "python",
   "nbconvert_exporter": "python",
   "pygments_lexer": "ipython3",
   "version": "3.11.9"
  }
 },
 "nbformat": 4,
 "nbformat_minor": 2
}
